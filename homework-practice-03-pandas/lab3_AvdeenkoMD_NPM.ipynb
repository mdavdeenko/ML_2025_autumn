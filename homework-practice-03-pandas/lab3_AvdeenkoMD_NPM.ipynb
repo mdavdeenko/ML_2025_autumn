{
 "cells": [
  {
   "cell_type": "markdown",
   "id": "07c796cf",
   "metadata": {},
   "source": [
    "#### 1. [0.5 баллов] Откройте файл с таблицей (не забудьте про её формат). Выведите последние 10 строк.\n",
    "\n",
    "Посмотрите на данные и скажите, что они из себя представляют, сколько в таблице строк, какие столбцы?"
   ]
  },
  {
   "cell_type": "code",
   "execution_count": 5,
   "id": "20faf1d7",
   "metadata": {},
   "outputs": [
    {
     "name": "stdout",
     "output_type": "stream",
     "text": [
      "      order_id  ...  item_price\n",
      "4612      1831  ...      $9.25 \n",
      "4613      1831  ...      $2.15 \n",
      "4614      1831  ...      $1.50 \n",
      "4615      1832  ...      $8.75 \n",
      "4616      1832  ...      $4.45 \n",
      "4617      1833  ...     $11.75 \n",
      "4618      1833  ...     $11.75 \n",
      "4619      1834  ...     $11.25 \n",
      "4620      1834  ...      $8.75 \n",
      "4621      1834  ...      $8.75 \n",
      "\n",
      "[10 rows x 5 columns]\n"
     ]
    }
   ],
   "source": [
    "import numpy as np\n",
    "import pandas as pd\n",
    "from pandas import read_csv\n",
    "df = pd.read_csv('chipotle.tsv', sep='\\t')\n",
    "print(df.tail(10))"
   ]
  }
 ],
 "metadata": {
  "kernelspec": {
   "display_name": "Python 3",
   "language": "python",
   "name": "python3"
  },
  "language_info": {
   "codemirror_mode": {
    "name": "ipython",
    "version": 3
   },
   "file_extension": ".py",
   "mimetype": "text/x-python",
   "name": "python",
   "nbconvert_exporter": "python",
   "pygments_lexer": "ipython3",
   "version": "3.12.5"
  }
 },
 "nbformat": 4,
 "nbformat_minor": 5
}
